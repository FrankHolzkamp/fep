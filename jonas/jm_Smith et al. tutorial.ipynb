{
 "cells": [
  {
   "cell_type": "code",
   "execution_count": 1,
   "metadata": {},
   "outputs": [],
   "source": [
    "import numpy as np\n",
    "import matplotlib.pyplot as plt\n",
    "import seaborn as sns\n",
    "import pandas as pd"
   ]
  },
  {
   "cell_type": "markdown",
   "metadata": {},
   "source": [
    "# Figure 1"
   ]
  },
  {
   "cell_type": "code",
   "execution_count": 2,
   "metadata": {},
   "outputs": [
    {
     "name": "stdout",
     "output_type": "stream",
     "text": [
      "[[0.405]\n",
      " [0.055]]\n",
      "0.46\n"
     ]
    }
   ],
   "source": [
    "prior = np.array([[0.45],[0.55]])\n",
    "likelihood = np.array([[0.9],[0.1]])\n",
    "joint = prior*likelihood\n",
    "print (joint)\n",
    "marginal = np.sum(joint)\n",
    "print (marginal)"
   ]
  },
  {
   "cell_type": "code",
   "execution_count": 3,
   "metadata": {},
   "outputs": [
    {
     "name": "stdout",
     "output_type": "stream",
     "text": [
      "[[0.88043478]\n",
      " [0.11956522]]\n"
     ]
    }
   ],
   "source": [
    "posterior = joint/marginal\n",
    "print (posterior)"
   ]
  },
  {
   "cell_type": "markdown",
   "metadata": {},
   "source": [
    "# Figure 2"
   ]
  },
  {
   "cell_type": "code",
   "execution_count": 4,
   "metadata": {},
   "outputs": [
    {
     "name": "stdout",
     "output_type": "stream",
     "text": [
      "joint\n",
      "[[0.095]\n",
      " [0.045]]\n",
      "marginal\n",
      "0.14\n",
      "posterior\n",
      "[[0.67857143]\n",
      " [0.32142857]]\n"
     ]
    }
   ],
   "source": [
    "# Exact bayesian inference \n",
    "prior = np.array([[0.95],[0.05]])\n",
    "likelihood = np.array([[0.1],[0.9]])\n",
    "joint = prior*likelihood\n",
    "\n",
    "print ('joint')\n",
    "print (joint)\n",
    "marginal = np.sum(joint)\n",
    "print ('marginal')\n",
    "print (marginal)\n",
    "\n",
    "posterior = joint/marginal\n",
    "\n",
    "print ('posterior')\n",
    "\n",
    "\n",
    "print (posterior)"
   ]
  },
  {
   "cell_type": "code",
   "execution_count": 11,
   "metadata": {
    "scrolled": true
   },
   "outputs": [],
   "source": [
    "q = np.array([[0.5],[0.5]])\n",
    "true = np.array([[0.8],[0.2]])\n",
    "joint = np.array ([[0.4, 0.1],[0.1, 0.4]])\n",
    "o = np.array([1,0])\n",
    "def F(q, joint):\n",
    "    F_result = q[0]*np.log(q[0]/joint[0,0]) + q[1]*np.log(q[1]/joint[1,0])\n",
    "    #print (F_result)\n",
    "    return F_result"
   ]
  },
  {
   "cell_type": "code",
   "execution_count": 12,
   "metadata": {
    "scrolled": true
   },
   "outputs": [
    {
     "name": "stdout",
     "output_type": "stream",
     "text": [
      "[0 1]\n",
      "nan\n",
      "[0.1 0.9]\n",
      "1.8388726834906086\n",
      "[0.2 0.8]\n",
      "1.5249237972318797\n",
      "[0.3 0.7]\n",
      "1.2758324826031848\n",
      "[0.4 0.6]\n",
      "1.0750556815368328\n",
      "[0.5 0.5]\n",
      "0.916290731874155\n",
      "[0.6 0.4]\n",
      "0.7977968093128547\n",
      "[0.7 0.3]\n",
      "0.7213147381552287\n",
      "[0.8 0.2]\n",
      "0.6931471805599452\n",
      "[0.9 0.1]\n",
      "0.7298371945946959\n",
      "[1 0]\n",
      "nan\n"
     ]
    },
    {
     "name": "stderr",
     "output_type": "stream",
     "text": [
      "<ipython-input-11-1bef324e1cd8>:6: RuntimeWarning: divide by zero encountered in log\n",
      "  F_result = q[0]*np.log(q[0]/joint[0,0]) + q[1]*np.log(q[1]/joint[1,0])\n",
      "<ipython-input-11-1bef324e1cd8>:6: RuntimeWarning: invalid value encountered in multiply\n",
      "  F_result = q[0]*np.log(q[0]/joint[0,0]) + q[1]*np.log(q[1]/joint[1,0])\n"
     ]
    }
   ],
   "source": [
    "for q0 in [0, 0.1, 0.2, 0.3, 0.4, 0.5, 0.6, 0.7, 0.8, 0.9, 1]:\n",
    "    q = np.array([q0,1-q0])\n",
    "    f = F(q,joint)\n",
    "    print (q)\n",
    "    print (f)"
   ]
  },
  {
   "cell_type": "markdown",
   "metadata": {},
   "source": [
    "# VFE Calculation example"
   ]
  },
  {
   "cell_type": "code",
   "execution_count": 13,
   "metadata": {},
   "outputs": [],
   "source": [
    "a = np.array([[0.45,0.55]])"
   ]
  },
  {
   "cell_type": "code",
   "execution_count": 14,
   "metadata": {},
   "outputs": [
    {
     "data": {
      "text/plain": [
       "array([[0.45],\n",
       "       [0.55]])"
      ]
     },
     "execution_count": 14,
     "metadata": {},
     "output_type": "execute_result"
    }
   ],
   "source": [
    "a.T"
   ]
  },
  {
   "cell_type": "code",
   "execution_count": 15,
   "metadata": {},
   "outputs": [],
   "source": [
    "b = np.array([(1.5,2,3), (4,5,6)], dtype = float)"
   ]
  },
  {
   "cell_type": "code",
   "execution_count": 16,
   "metadata": {},
   "outputs": [
    {
     "data": {
      "text/plain": [
       "array([[1.5, 2. , 3. ],\n",
       "       [4. , 5. , 6. ]])"
      ]
     },
     "execution_count": 16,
     "metadata": {},
     "output_type": "execute_result"
    }
   ],
   "source": [
    "b"
   ]
  },
  {
   "cell_type": "code",
   "execution_count": 18,
   "metadata": {},
   "outputs": [
    {
     "data": {
      "text/plain": [
       "numpy.ndarray"
      ]
     },
     "execution_count": 18,
     "metadata": {},
     "output_type": "execute_result"
    }
   ],
   "source": [
    "type(b)"
   ]
  },
  {
   "cell_type": "code",
   "execution_count": 19,
   "metadata": {},
   "outputs": [
    {
     "data": {
      "text/plain": [
       "array([[[7, 7, 7, 7],\n",
       "        [7, 7, 7, 7],\n",
       "        [7, 7, 7, 7]],\n",
       "\n",
       "       [[7, 7, 7, 7],\n",
       "        [7, 7, 7, 7],\n",
       "        [7, 7, 7, 7]]])"
      ]
     },
     "execution_count": 19,
     "metadata": {},
     "output_type": "execute_result"
    }
   ],
   "source": [
    "np.full((2,3,4),7)"
   ]
  },
  {
   "cell_type": "code",
   "execution_count": 20,
   "metadata": {},
   "outputs": [],
   "source": [
    "true_observation = np.array([(1,0)]).T\n",
    "prior = np.array([(0.5,0.5)])\n",
    "likelihood = np.array([(0.8,0.2),(0.2,0.8)]).T\n",
    "joint_probability = prior.T*likelihood"
   ]
  },
  {
   "cell_type": "code",
   "execution_count": 21,
   "metadata": {},
   "outputs": [
    {
     "data": {
      "text/plain": [
       "array([[0.4, 0.1],\n",
       "       [0.1, 0.4]])"
      ]
     },
     "execution_count": 21,
     "metadata": {},
     "output_type": "execute_result"
    }
   ],
   "source": [
    "joint_probability"
   ]
  },
  {
   "cell_type": "markdown",
   "metadata": {},
   "source": [
    "# EFE precision updating"
   ]
  },
  {
   "cell_type": "code",
   "execution_count": 22,
   "metadata": {},
   "outputs": [],
   "source": [
    "E = np.matrix('1 1 1 1 1').T #habits / prior over policis\n",
    "G = np.matrix ('12.505 9.51 12.5034 12.505 12.505').T #exmaple expected VFE for each policy AFTER new observation\n",
    "F = np.matrix ('17.0207 1.7321 1.7321 17.0387 17.0387').T\n",
    "\n",
    "\n",
    "gamma_0 = 1                  # Starting expected free energy precision value\n",
    "gamma = gamma_0;             # Initial expected free energy precision to be updated\n",
    "beta_prior = 1/gamma;        # Initial prior on expected free energy precision\n",
    "beta_posterior = beta_prior; # Initial posterior on expected free energy precision"
   ]
  },
  {
   "cell_type": "code",
   "execution_count": 23,
   "metadata": {},
   "outputs": [
    {
     "name": "stdout",
     "output_type": "stream",
     "text": [
      "0\n",
      "1\n",
      "2\n",
      "3\n",
      "4\n",
      "5\n",
      "6\n",
      "7\n",
      "8\n",
      "9\n",
      "10\n",
      "11\n",
      "12\n",
      "13\n",
      "14\n",
      "15\n"
     ]
    }
   ],
   "source": [
    "range_variable = 16\n",
    "gamma_dopamine = np.zeros((range_variable,1))\n",
    "policies_neural = np.zeros((5,range_variable))\n",
    "for i in range(range_variable): #number of variational updates \n",
    "    print (i)\n",
    "    # calculate prior and posterior over policies (see main text for explanation of equations) \n",
    "    pi_0 = np.exp(np.log(E) - gamma * G) / np.sum (np.exp(np.log(E) - gamma * G)) # prior over policies; σ(ln E - 𝛾 G)\n",
    "    pi_posterior = np.exp(np.log(E) - gamma * G - F) / np.sum (np.exp (np.log (E) - gamma * G - F)) # posterior over policies; σ(ln E - F - 𝛾 G)\n",
    "    \n",
    "    # calculate expected free energy precision \n",
    "    beta_update = ((pi_posterior - pi_0).T * -G)[0,0] # calculate update\n",
    "    dFd_gamma = beta_posterior - beta_prior + beta_update; # partial derivative of F with respect to gamma (recall gamma = 1/beta)\n",
    "    beta_posterior = beta_posterior - dFd_gamma/2; # update posterior precision estimate (with step size of 2, which reduce the magnitude of each update and can promote stable convergence)\n",
    "    gamma = 1/beta_posterior; # update expected free energy precision\n",
    "    \n",
    "     #simulate dopamine responses\n",
    "    n = i;\n",
    "    gamma_dopamine[n,0] = gamma; # simulated neural encoding of precision(beta_posterior^-1) at each iteration of variational updating\n",
    "    policies_neural[:,n] = pi_posterior.T; # neural encoding of posterior over policies at each iteration of variational updating\n",
    "    pi_posterior = pi_posterior;         # record posterior over policies \n",
    "    "
   ]
  },
  {
   "cell_type": "code",
   "execution_count": 26,
   "metadata": {},
   "outputs": [
    {
     "name": "stdout",
     "output_type": "stream",
     "text": [
      " \n",
      "Policy Prior:\n",
      "[[0.02214869]\n",
      " [0.91136123]\n",
      " [0.02219271]\n",
      " [0.02214869]\n",
      " [0.02214869]]\n",
      " \n",
      "Policy Posterior:\n",
      "[[5.43818445e-09]\n",
      " [9.76227697e-01]\n",
      " [2.37722873e-02]\n",
      " [5.34117285e-09]\n",
      " [5.34117285e-09]]\n",
      " \n",
      "Policy Difference Vector:\n",
      "[[-0.02214868]\n",
      " [ 0.06486647]\n",
      " [ 0.00157957]\n",
      " [-0.02214868]\n",
      " [-0.02214868]]\n",
      " \n",
      "Negative Expected Free Energy:\n",
      "[[-12.505 ]\n",
      " [ -9.51  ]\n",
      " [-12.5034]\n",
      " [-12.505 ]\n",
      " [-12.505 ]]\n",
      " \n",
      "Prior G Precision (Prior Gamma):\n",
      "1\n",
      " \n",
      "Posterior G Precision (Prior Gamma):\n",
      "1.2411222533214141\n",
      " \n"
     ]
    },
    {
     "data": {
      "image/png": "[encoded data removed]",
      "text/plain": [
       "<Figure size 432x288 with 1 Axes>"
      ]
     },
     "metadata": {},
     "output_type": "display_data"
    },
    {
     "data": {
      "image/png": "[encoded data removed]",
      "text/plain": [
       "<Figure size 864x432 with 1 Axes>"
      ]
     },
     "metadata": {},
     "output_type": "display_data"
    }
   ],
   "source": [
    "print(' ');\n",
    "print('Policy Prior:');\n",
    "print(pi_0);\n",
    "print(' ');\n",
    "print('Policy Posterior:');\n",
    "print(pi_posterior);\n",
    "print(' ');\n",
    "print('Policy Difference Vector:');\n",
    "print(pi_posterior-pi_0);\n",
    "print(' ');\n",
    "print('Negative Expected Free Energy:');\n",
    "print(-G);\n",
    "print(' ');\n",
    "print('Prior G Precision (Prior Gamma):');\n",
    "print(gamma_0);\n",
    "print(' ');\n",
    "print('Posterior G Precision (Prior Gamma):');\n",
    "print(gamma);\n",
    "print(' ');\n",
    "\n",
    "\n",
    "plt.plot(range(16), gamma_dopamine)\n",
    "plt.show()\n",
    "\n",
    "#sns.set()\n",
    "sns.set_style('darkgrid')\n",
    "sns.set_context('talk', font_scale=1.1)\n",
    "plt.figure(figsize=(12, 6))\n",
    "plt.scatter(range(16), gamma_dopamine)\n",
    "plt.xlabel(\"Updates\")\n",
    "plt.ylabel(\"\\gamma\")\n",
    "plt.title(\"Expected Free Energy Precision Updates (gamma)\")\n",
    "plt.show()\n",
    "\n",
    "\n",
    "## uncomment if you want to show firing rates encoding beliefs about each\n",
    "# policy (columns = policies, rows = updates over time)\n",
    "\n",
    "# disp('Firing rates encoding beliefs over policies:');\n",
    "# disp(policies_neural');\n",
    "# disp(' ');\n"
   ]
  },
  {
   "cell_type": "code",
   "execution_count": null,
   "metadata": {},
   "outputs": [],
   "source": []
  }
 ],
 "metadata": {
  "kernelspec": {
   "display_name": "Python 3",
   "language": "python",
   "name": "python3"
  },
  "language_info": {
   "codemirror_mode": {
    "name": "ipython",
    "version": 3
   },
   "file_extension": ".py",
   "mimetype": "text/x-python",
   "name": "python",
   "nbconvert_exporter": "python",
   "pygments_lexer": "ipython3",
   "version": "3.8.5"
  },
  "varInspector": {
   "cols": {
    "lenName": 16,
    "lenType": 16,
    "lenVar": 40
   },
   "kernels_config": {
    "python": {
     "delete_cmd_postfix": "",
     "delete_cmd_prefix": "del ",
     "library": "var_list.py",
     "varRefreshCmd": "print(var_dic_list())"
    },
    "r": {
     "delete_cmd_postfix": ") ",
     "delete_cmd_prefix": "rm(",
     "library": "var_list.r",
     "varRefreshCmd": "cat(var_dic_list()) "
    }
   },
   "oldHeight": 286,
   "position": {
    "height": "308px",
    "left": "929px",
    "right": "20px",
    "top": "120px",
    "width": "331px"
   },
   "types_to_exclude": [
    "module",
    "function",
    "builtin_function_or_method",
    "instance",
    "_Feature"
   ],
   "varInspector_section_display": "block",
   "window_display": false
  }
 },
 "nbformat": 4,
 "nbformat_minor": 2
}
